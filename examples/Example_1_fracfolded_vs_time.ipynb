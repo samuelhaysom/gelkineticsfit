{
 "cells": [
  {
   "cell_type": "markdown",
   "metadata": {},
   "source": [
    "# Example 1\n",
    "\n",
    "This is a jupyter notebook example of how to plot fraction folded vs time plots from raw kinetics data"
   ]
  },
  {
   "cell_type": "code",
   "execution_count": 4,
   "metadata": {},
   "outputs": [],
   "source": [
    "from pathlib import Path\n",
    "import sys\n",
    "from matplotlib import pyplot as plt"
   ]
  },
  {
   "cell_type": "code",
   "execution_count": 6,
   "metadata": {},
   "outputs": [],
   "source": [
    "# replace the path with where you have put the gelkineticsfit folder\n",
    "\n",
    "root_dir = Path(\"/Users/samuelhaysom/Library/CloudStorage/OneDrive-UniversityofLeeds/PhD Mechanistic Biology (2018-22)/Computing/BAM_folding_fitting/gelkineticsfit/\")\n",
    "sys.path.append(str(root_dir))\n",
    "from gelkineticsfit import parse, plots, calcs"
   ]
  },
  {
   "cell_type": "markdown",
   "metadata": {},
   "source": [
    "Paths to raw data"
   ]
  },
  {
   "cell_type": "code",
   "execution_count": 7,
   "metadata": {},
   "outputs": [],
   "source": [
    "data_dir = \"gelkineticsfit/examples\"\n",
    "OmpX_file = \"DAR-B_Folding_OmpX.xlsx\"\n",
    "tOmpA_file = \"DAR-B_Folding_tOmpA.xlsx\""
   ]
  },
  {
   "cell_type": "markdown",
   "metadata": {},
   "source": [
    "# Processing\n",
    "1. Parse the raw data\n",
    "2. For each condition (delineated by sheet in the raw data), calculates average fraction folded at each time point\n",
    "3. Fit the average fraction folded data with a single exponential decay function"
   ]
  },
  {
   "cell_type": "code",
   "execution_count": 8,
   "metadata": {},
   "outputs": [
    {
     "name": "stdout",
     "output_type": "stream",
     "text": [
      "Processing condition WT BAM (new)\n",
      "Processing condition WT BAM + DAR-B\n",
      "Processing condition WT BAM + 1% DMSO\n",
      "Processing condition WT BAM + 1% DMSO (new)\n",
      "Condition: WT BAM (new)\n",
      "WT BAM (new): \n",
      "k: 1.05E-03 y0: 1.00E-06 plateau: 0.7855955910826243\n",
      "pcov: [[ 3.43829250e-09 -4.53864302e-07 -3.34031713e-07]\n",
      " [-4.53864302e-07  2.01770564e-04  2.26206332e-05]\n",
      " [-3.34031713e-07  2.26206332e-05  9.26440330e-05]]\n",
      "\n",
      "Condition: WT BAM + DAR-B\n",
      "WT BAM + DAR-B: \n",
      "k: 5.54E-06 y0: -1.00E-06 plateau: 0.9999999999999998\n",
      "pcov: [[ 1.31902882e-09 -3.54612021e-08 -2.31880065e-04]\n",
      " [-3.54612021e-08  2.91560008e-06  6.18079783e-03]\n",
      " [-2.31880065e-04  6.18079783e-03  4.07667997e+01]]\n",
      "\n",
      "Condition: WT BAM + 1% DMSO\n",
      "WT BAM + 1% DMSO: \n",
      "k: 2.27E-04 y0: -1.00E-06 plateau: 0.6510979216672363\n",
      "pcov: [[ 5.09349988e-10 -1.19775296e-07 -5.90000865e-07]\n",
      " [-1.19775296e-07  9.77078626e-05  9.90399001e-05]\n",
      " [-5.90000865e-07  9.90399001e-05  8.17885213e-04]]\n",
      "\n",
      "Condition: WT BAM + 1% DMSO (new)\n",
      "WT BAM + 1% DMSO (new): \n",
      "k: 8.40E-04 y0: 1.00E-06 plateau: 0.7965002014440119\n",
      "pcov: [[ 8.38590296e-09 -1.32469760e-06 -1.21565329e-06]\n",
      " [-1.32469760e-06  7.21947184e-04  1.00561173e-04]\n",
      " [-1.21565329e-06  1.00561173e-04  4.34789557e-04]]\n",
      "\n"
     ]
    }
   ],
   "source": [
    "OmpX_data_dict = parse.parse_raw_kinetics_xlsx(OmpX_file)\n",
    "OmpX_avdata_dict = calcs.av_by_cond_in_data_dict(OmpX_data_dict)\n",
    "OmpX_avfitting_dict = calcs.get_fit_params_dict_from_avdata_dict(OmpX_avdata_dict)"
   ]
  },
  {
   "cell_type": "code",
   "execution_count": 9,
   "metadata": {},
   "outputs": [
    {
     "name": "stdout",
     "output_type": "stream",
     "text": [
      "Processing condition WT BAM (new)\n",
      "Processing condition WT BAM + DAR-B\n",
      "Processing condition WT BAM + 1% DMSO\n",
      "Processing condition WT BAM + 1% DMSO (new)\n",
      "Processing condition WT BAM (James)\n",
      "Condition: WT BAM (new)\n",
      "WT BAM (new): \n",
      "k: 2.23E-03 y0: 1.00E-06 plateau: 0.9009737023175453\n",
      "pcov: [[ 5.66247723e-08 -4.56615448e-06 -1.76999634e-06]\n",
      " [-4.56615448e-06  1.25288398e-03  6.10378196e-05]\n",
      " [-1.76999634e-06  6.10378196e-05  2.77192540e-04]]\n",
      "\n",
      "Condition: WT BAM + DAR-B\n",
      "WT BAM + DAR-B: \n",
      "k: 3.18E-05 y0: -1.00E-06 plateau: 0.9999999999998357\n",
      "pcov: [[ 1.70373936e-09 -2.28485907e-07 -4.60276873e-05]\n",
      " [-2.28485907e-07  9.54549706e-05  5.87769377e-03]\n",
      " [-4.60276873e-05  5.87769377e-03  1.24690471e+00]]\n",
      "\n",
      "Condition: WT BAM + 1% DMSO\n",
      "WT BAM + 1% DMSO: \n",
      "k: 4.60E-04 y0: 1.00E-06 plateau: 0.8441224924547627\n",
      "pcov: [[ 3.14691508e-10 -7.78347781e-08 -1.38854928e-07]\n",
      " [-7.78347781e-08  6.88409344e-05  1.98353068e-05]\n",
      " [-1.38854928e-07  1.98353068e-05  1.04089248e-04]]\n",
      "\n",
      "Condition: WT BAM + 1% DMSO (new)\n",
      "WT BAM + 1% DMSO (new): \n",
      "k: 1.88E-03 y0: 1.00E-06 plateau: 0.9064543693900489\n",
      "pcov: [[ 2.71862688e-08 -2.57031973e-06 -1.11920994e-06]\n",
      " [-2.57031973e-06  8.05449720e-04  4.82194072e-05]\n",
      " [-1.11920994e-06  4.82194072e-05  2.03647883e-04]]\n",
      "\n",
      "Condition: WT BAM (James)\n",
      "WT BAM (James): \n",
      "k: 8.61E-04 y0: 1.00E-06 plateau: 0.9166555189634265\n",
      "pcov: [[ 5.12066707e-09 -9.14783585e-07 -8.19457130e-07]\n",
      " [-9.14783585e-07  5.62374643e-04  7.64937408e-05]\n",
      " [-8.19457130e-07  7.64937408e-05  3.28525685e-04]]\n",
      "\n"
     ]
    }
   ],
   "source": [
    "tOmpA_data_dict = parse.parse_raw_kinetics_xlsx(tOmpA_file)\n",
    "tOmpA_avdata_dict = calcs.av_by_cond_in_data_dict(tOmpA_data_dict)\n",
    "tOmpA_avfitting_dict = calcs.get_fit_params_dict_from_avdata_dict(tOmpA_avdata_dict)"
   ]
  },
  {
   "cell_type": "markdown",
   "metadata": {},
   "source": [
    "# Plotting\n",
    "\n",
    "1. Specify colours to use for each condition. These can be anything recognised by matplotlib e.g. values in matplotlib colour table or hexadecimal codes\n"
   ]
  },
  {
   "cell_type": "code",
   "execution_count": 10,
   "metadata": {},
   "outputs": [],
   "source": [
    "# Colours\n",
    "colours_dict = {\n",
    "    \"WT BAM + 1% DMSO\" : plt.cm.tab20(5), # lightgreen\n",
    "    \"WT BAM + DAR-B\" : plt.cm.tab20(1), # lightblue\n",
    "    # BAM-Fab paper colours\n",
    "    \"WT BAM\" : '#000000ff', # black\n",
    "    \"BAM-Fab1\" : '#ff0000ff', # red\n",
    "    \"BAM-P5L\" : '#009900fe', # green\n",
    "    \"BAM-P5L + DTT\" : '#d4aa00ff', # yellow\n",
    "    \"BAM-LL\" : '#0000ffff', # blue\n",
    "    \"BAM-LL + DTT\" : '#ff40d9ff', # BAM-LL + DTT\n",
    "    \"BamA\" : '#9039e6d5', # purple\n",
    "    \"empty liposomes\" : '#777777fa' # grey\n",
    "}\n",
    "\n",
    "#['#000000ff', '#ff0000ff', '#009900fe', '#d4aa00ff', '#0000ffff', '#ff40d9ff', '#9039e6d5', '#777777fa']"
   ]
  },
  {
   "cell_type": "markdown",
   "metadata": {},
   "source": [
    "2. Specify fonts for plotting"
   ]
  },
  {
   "cell_type": "code",
   "execution_count": 11,
   "metadata": {},
   "outputs": [],
   "source": [
    "font = {\n",
    "        'family' : 'Arial',\n",
    "        'weight' : 'normal',\n",
    "        'size' : 7.560\n",
    "        }\n",
    "plt.rc('font', **font)"
   ]
  },
  {
   "cell_type": "markdown",
   "metadata": {},
   "source": [
    "3. Plot the data. Dictionary and list comprehensions are used to filter the data before plotting. \n",
    "https://www.datacamp.com/community/tutorials/python-dictionary-comprehension\n",
    "https://www.w3schools.com/python/python_lists_comprehension.asp"
   ]
  },
  {
   "cell_type": "code",
   "execution_count": 14,
   "metadata": {},
   "outputs": [
    {
     "name": "stdout",
     "output_type": "stream",
     "text": [
      "Saving as WTdmsoVSWTDAR-B_tOmpA_curves.png\n"
     ]
    },
    {
     "data": {
      "image/png": "[encoded data removed]",
      "text/plain": [
       "<Figure size 310x239 with 1 Axes>"
      ]
     },
     "metadata": {},
     "output_type": "display_data"
    }
   ],
   "source": [
    "# Figure 1a\n",
    "plot_list = [\"WT BAM + DAR-B\", \"WT BAM + 1% DMSO\"]\n",
    "\n",
    "plot_avdata = {cond:tOmpA_avdata_dict[cond] for cond in plot_list}\n",
    "plot_avfitting = {cond:tOmpA_avfitting_dict[cond] for cond in plot_list}\n",
    "colours = [colours_dict[cond] for cond in plot_list]\n",
    "\n",
    "plots.plot_avdata_avfitting_as_scatter(\n",
    "    plot_avdata, plot_avfitting,\n",
    "    y_limits=[-0.1,1],\n",
    "    fig_size=[3.1, 2.390],\n",
    "    error_bars=\"range\", \n",
    "    colors=colours,\n",
    "    save=\"WTdmsoVSWTDAR-B_tOmpA_curves.png\",\n",
    "    tight_layout=False\n",
    ")"
   ]
  },
  {
   "cell_type": "code",
   "execution_count": 13,
   "metadata": {},
   "outputs": [
    {
     "name": "stdout",
     "output_type": "stream",
     "text": [
      "Saving as WTdmsoVSWTDAR-B_OmpX_curves.png\n"
     ]
    },
    {
     "data": {
      "image/png": "[encoded data removed]",
      "text/plain": [
       "<Figure size 310x239 with 1 Axes>"
      ]
     },
     "metadata": {},
     "output_type": "display_data"
    }
   ],
   "source": [
    "# Figure 1b\n",
    "plot_list = [\"WT BAM + DAR-B\", \"WT BAM + 1% DMSO\"]\n",
    "\n",
    "plot_avdata = {cond:OmpX_avdata_dict[cond] for cond in plot_list}\n",
    "plot_avfitting = {cond:OmpX_avfitting_dict[cond] for cond in plot_list}\n",
    "colours = [colours_dict[cond] for cond in plot_list]\n",
    "\n",
    "plots.plot_avdata_avfitting_as_scatter(\n",
    "    plot_avdata, plot_avfitting,\n",
    "    y_limits=[-0.1,1],\n",
    "    fig_size=[3.1, 2.390],\n",
    "    error_bars=\"range\", \n",
    "    colors=colours,\n",
    "    save=\"WTdmsoVSWTDAR-B_OmpX_curves.png\",\n",
    "    tight_layout=False\n",
    ")"
   ]
  },
  {
   "cell_type": "code",
   "execution_count": null,
   "metadata": {},
   "outputs": [],
   "source": []
  }
 ],
 "metadata": {
  "interpreter": {
   "hash": "0ea2ec660261026df9eb9d4505bc659b51dee9d86c52e7dab2ff7d3bf4284387"
  },
  "kernelspec": {
   "display_name": "Python 3.9.6 ('TEST')",
   "language": "python",
   "name": "python3"
  },
  "language_info": {
   "codemirror_mode": {
    "name": "ipython",
    "version": 3
   },
   "file_extension": ".py",
   "mimetype": "text/x-python",
   "name": "python",
   "nbconvert_exporter": "python",
   "pygments_lexer": "ipython3",
   "version": "3.9.6"
  },
  "orig_nbformat": 4
 },
 "nbformat": 4,
 "nbformat_minor": 2
}
